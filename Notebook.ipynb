{
 "cells": [
  {
   "cell_type": "markdown",
   "id": "c0d61014",
   "metadata": {},
   "source": [
    "My Data Science Notebook"
   ]
  },
  {
   "cell_type": "markdown",
   "id": "58fe5ba1",
   "metadata": {},
   "source": [
    "Hello everyone, I am currently studying Data Science"
   ]
  },
  {
   "cell_type": "markdown",
   "id": "6111828a",
   "metadata": {},
   "source": [
    "Data Science languages includes:\n",
    "-Python\n",
    "-Julia\n",
    "-R"
   ]
  },
  {
   "cell_type": "markdown",
   "id": "bf23053d",
   "metadata": {},
   "source": [
    "Data Sciences libraries includes:\n",
    "-NumPy\n",
    "-Pandas\n",
    "-Scikit-learn"
   ]
  },
  {
   "cell_type": "markdown",
   "id": "0474e698",
   "metadata": {},
   "source": [
    "| Tool       | Description                   |\n",
    "|------------|-------------------------------|\n",
    "| Jupyter    | Interactive notebooks         |\n",
    "| TensorFlow | Machine learning framework    |\n",
    "| Tableau    | Data visualization tool       |"
   ]
  },
  {
   "cell_type": "markdown",
   "id": "f8823e36",
   "metadata": {},
   "source": [
    "##Arithmetic Expression Examples\n",
    "\n",
    "Crucial to mathematics, They involve addition, subtraction, multiplication and division.\n",
    "\n",
    "Addition: 6 + 7 = 13\n",
    "\n",
    "Subtraction: 6 - 2 = 4\n",
    "\n",
    "Multiplication: 5 x 2 = 10\n",
    "\n",
    "division: 15 / 3 = 5"
   ]
  },
  {
   "cell_type": "code",
   "execution_count": 4,
   "id": "50e77c07",
   "metadata": {},
   "outputs": [
    {
     "name": "stdout",
     "output_type": "stream",
     "text": [
      "Multiplication:  100\n",
      "Total/Sum:  52\n"
     ]
    }
   ],
   "source": [
    "first = 2\n",
    "second = 50\n",
    "multiply = first * second\n",
    "total = first + second\n",
    "print('Multiplication: ', multiply)\n",
    "print('Total/Sum: ',total)"
   ]
  },
  {
   "cell_type": "code",
   "execution_count": 5,
   "id": "4edb06ba",
   "metadata": {},
   "outputs": [
    {
     "name": "stdout",
     "output_type": "stream",
     "text": [
      "Hours:  2.0\n"
     ]
    }
   ],
   "source": [
    "min = 120\n",
    "hour = min / 60\n",
    "print('Hours: ',hour)"
   ]
  },
  {
   "cell_type": "markdown",
   "id": "cd7bc439",
   "metadata": {},
   "source": [
    "What I aim to achieve are more deeper insight into Data Science, and gain more experience in an educational and professional environment."
   ]
  },
  {
   "cell_type": "markdown",
   "id": "63000262",
   "metadata": {},
   "source": [
    "Author: Long Tran"
   ]
  }
 ],
 "metadata": {
  "kernelspec": {
   "display_name": "Python 3 (ipykernel)",
   "language": "python",
   "name": "python3"
  },
  "language_info": {
   "codemirror_mode": {
    "name": "ipython",
    "version": 3
   },
   "file_extension": ".py",
   "mimetype": "text/x-python",
   "name": "python",
   "nbconvert_exporter": "python",
   "pygments_lexer": "ipython3",
   "version": "3.11.4"
  }
 },
 "nbformat": 4,
 "nbformat_minor": 5
}
